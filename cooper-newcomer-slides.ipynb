{
 "cells": [
  {
   "cell_type": "markdown",
   "id": "2575c6b9-2171-4e36-a842-f344faf39e64",
   "metadata": {
    "slideshow": {
     "slide_type": "slide"
    }
   },
   "source": [
    "# Using NumPy in the classroom\n",
    "## Ryan C. Cooper\n",
    "\n",
    "<img alt=\"UConn engineering logo\" src = ./soe-uconn.png height = \"500\" width = \"400\" align=\"right\">"
   ]
  },
  {
   "cell_type": "markdown",
   "id": "e692762f-7261-4743-9f8a-4f6f7d0b4a02",
   "metadata": {
    "slideshow": {
     "slide_type": "slide"
    }
   },
   "source": [
    "## About me - Ryan C. Cooper\n",
    "\n",
    "__GitHub__: <img align=\"left\" alt = \"octocat image\" src = \"https://avatars.githubusercontent.com/u/583231?v=4\" width = \"70\"/> [@cooperrc](https://github.com/cooperrc)\n",
    "\n",
    "__email:__ ryan.c.cooper@uconn.edu\n",
    "\n",
    "__LinkedIn__: [Ryan C. Cooper](https://www.linkedin.com/in/ryancooperscience/)\n",
    "- Assistant Professor-in-Residence \n",
    "- University of Connecticut Mechanical Engineering Department \n",
    "- Father of two boys\n",
    "- Runner, bicyclist, and skateboarder"
   ]
  },
  {
   "cell_type": "code",
   "execution_count": 4,
   "id": "43c68718-5c3b-4d30-afaa-9b179563c666",
   "metadata": {
    "slideshow": {
     "slide_type": "fragment"
    },
    "tags": [
     "remove_input"
    ]
   },
   "outputs": [
    {
     "data": {
      "image/jpeg": "[encoded data removed]",
      "text/html": [
       "\n",
       "        <iframe\n",
       "            width=\"400\"\n",
       "            height=\"300\"\n",
       "            src=\"https://www.youtube.com/embed/pvdID82aMEg\"\n",
       "            frameborder=\"0\"\n",
       "            allowfullscreen\n",
       "            \n",
       "        ></iframe>\n",
       "        "
      ],
      "text/plain": [
       "<IPython.lib.display.YouTubeVideo at 0x7f64a06252b0>"
      ]
     },
     "execution_count": 4,
     "metadata": {},
     "output_type": "execute_result"
    }
   ],
   "source": [
    "from IPython.lib.display import YouTubeVideo\n",
    "YouTubeVideo('pvdID82aMEg')"
   ]
  },
  {
   "cell_type": "markdown",
   "id": "99373487-9c8a-4553-aabd-2b8b0ade980f",
   "metadata": {
    "slideshow": {
     "slide_type": "slide"
    }
   },
   "source": [
    "# Accessing this presentation and \\*more\\*\n",
    "\n",
    "\n",
    "- My website has Open Educational Resources: [cooperrc.github.io](https://cooperrc.github.io)\n",
    "    - Join me, redistribute work, add suggestions\n",
    "    - Textbooks should be __open__ and __educational__\n",
    "- These slides are hosted at [github.com/cooperrc/cooper-newcomer-202206](https://github.com/cooperrc/cooper-newcomer-202206.git)"
   ]
  },
  {
   "cell_type": "markdown",
   "id": "a02f8031",
   "metadata": {
    "slideshow": {
     "slide_type": "slide"
    }
   },
   "source": [
    "## Why use NumPy in Mechanical Engineering courses?"
   ]
  },
  {
   "cell_type": "markdown",
   "id": "9a74b5fc-ac63-4a3f-9267-5bcedbc5a8fc",
   "metadata": {
    "slideshow": {
     "slide_type": "fragment"
    }
   },
   "source": [
    "### Open Source\n",
    "- The code and **Documentation** are open, reuseable and redistributable\n",
    "- Student work inherits openness "
   ]
  },
  {
   "cell_type": "markdown",
   "id": "bbafd5bf",
   "metadata": {
    "slideshow": {
     "slide_type": "slide"
    }
   },
   "source": [
    "## Why use NumPy in Mechanical Engineering courses?"
   ]
  },
  {
   "cell_type": "markdown",
   "id": "0b0a5e7d-b510-478e-855e-331753437a94",
   "metadata": {
    "slideshow": {
     "slide_type": "fragment"
    }
   },
   "source": [
    "### Its amazing!\n",
    "- My role at NumPy:\n",
    "    - NumPy Documentation team \n",
    "    - Google Season of Docs writer 2020\n",
    "- Continue to volunteer because \n",
    "    - People are amazing\n",
    "    - Community is supportive and inclusive\n",
    "    - The applications range from \n",
    "        - balancing budgets\n",
    "        - programming Mars helicopters\n",
    "        - imaging black holes\n"
   ]
  },
  {
   "cell_type": "markdown",
   "id": "ed48a104-e185-407c-916a-9ce41cc1baf0",
   "metadata": {
    "slideshow": {
     "slide_type": "slide"
    }
   },
   "source": [
    "# Exercises - \n",
    "\n",
    "![HackMD document](./hackmd.png)\n",
    "\n",
    "**https://hackmd.io/QxWtUwvFTdWZSMZc5SzZbg**"
   ]
  },
  {
   "cell_type": "markdown",
   "id": "71190cba",
   "metadata": {
    "slideshow": {
     "slide_type": "slide"
    }
   },
   "source": [
    "![Learning Journey in the classroom illustrated with 8 steps:identify, new model, problems, project, achieve goal, share work, submit project, new knowledge](learning-journey.svg)"
   ]
  },
  {
   "cell_type": "markdown",
   "id": "7411ae49",
   "metadata": {
    "slideshow": {
     "slide_type": "fragment"
    }
   },
   "source": [
    "**example:** https://cooperrc.github.io/computational-mechanics"
   ]
  },
  {
   "cell_type": "markdown",
   "id": "f6a17ef2",
   "metadata": {
    "slideshow": {
     "slide_type": "slide"
    }
   },
   "source": [
    "## NumPy in Mechanical Engineering:\n",
    "- [Applied Dynamics](https://cooperrc.github.io/engineering-dynamics)\n",
    "- [Computational Mechanics](https://cooperrc.github.io/computational-mechanics)\n",
    "- [Engineering Lab I](https://cooperrc.github.io/sensors_and_data/README.html)\n",
    "- [Engineering Lab II](https://cooperrc.github.io/applied_measurements)\n",
    "- [Advanced Dynamics](https://cooperrc.github.io/advanced-dynamics)\n",
    "- [Independent Project: NumPy tutorials](https://github.com/cooperrc/uconn_numpy_tutorials)"
   ]
  },
  {
   "cell_type": "markdown",
   "id": "98914f34",
   "metadata": {
    "slideshow": {
     "slide_type": "slide"
    }
   },
   "source": [
    "## Benefits of NumPy: Products"
   ]
  },
  {
   "cell_type": "markdown",
   "id": "3704f8b6",
   "metadata": {
    "slideshow": {
     "slide_type": "fragment"
    }
   },
   "source": [
    "- Students leave with open projects\n",
    "- Can build portfolios, reuse resources, redistribute\n",
    "- Not tied to restrictive licenses and ecosystems"
   ]
  },
  {
   "cell_type": "markdown",
   "id": "8f10b11f",
   "metadata": {
    "slideshow": {
     "slide_type": "slide"
    }
   },
   "source": [
    "## Benefits of NumPy: Experience"
   ]
  },
  {
   "cell_type": "markdown",
   "id": "656330bf",
   "metadata": {
    "slideshow": {
     "slide_type": "fragment"
    }
   },
   "source": [
    "- Homeworks and projects built to _share_\n",
    "- We improve resources together, creating new knowledge\n",
    "- _Tons_ of transferrable skills:\n",
    "    - online community engagement (discussions+github)\n",
    "    - programming and scripting skills\n",
    "    - collaborative team work\n",
    "    - technical writing and communication\n",
    "- It is **fun**"
   ]
  },
  {
   "cell_type": "markdown",
   "id": "dd40f1fd",
   "metadata": {
    "slideshow": {
     "slide_type": "slide"
    }
   },
   "source": [
    "## Collaborative example\n",
    "\n",
    "One way to decrease approximation error is to continue expanding the Taylor series. Consider the function f(x)\n",
    "\n",
    "$f(x)=e^x = 1+x+\\frac{x^2}{2!}+\\frac{x^3}{3!}+\\frac{x^4}{4!}+...$\n",
    "\n",
    "We can approximate $e^x$ as $1+x$ (first order), $1+x+x^2/2$ (second order), and so on each higher order results in smaller error. \n",
    "\n",
    "If you're trying to calculate $e^1$, what order approximation do you need?"
   ]
  },
  {
   "cell_type": "code",
   "execution_count": 5,
   "id": "f76917b2",
   "metadata": {
    "slideshow": {
     "slide_type": "subslide"
    }
   },
   "outputs": [],
   "source": [
    "from math import factorial\n",
    "def exptaylor(x,n):\n",
    "    '''Taylor series expansion about x=0 for the function e^x\n",
    "    the full expansion follows the function\n",
    "    e^x = 1+ x + x**2/2! + x**3/3! + x**4/4! + x**5/5! +...'''\n",
    "    if n<1:\n",
    "        print('lowest order expansion is 0 where e^x = 1')\n",
    "        ex = 1\n",
    "    else:\n",
    "        ex = 1+x # define the first-order taylor series result\n",
    "        for i in range(1,n):\n",
    "            ex+=x**(i+1)/factorial(i+1) # add the nth-order result for each step in loop\n",
    "    return ex"
   ]
  },
  {
   "cell_type": "markdown",
   "id": "58bab3b5",
   "metadata": {
    "slideshow": {
     "slide_type": "fragment"
    }
   },
   "source": [
    "https://github.com/cooperrc/exponent-colab-exercise.git"
   ]
  }
 ],
 "metadata": {
  "celltoolbar": "Slideshow",
  "kernelspec": {
   "display_name": "Python 3 (ipykernel)",
   "language": "python",
   "name": "python3"
  },
  "language_info": {
   "codemirror_mode": {
    "name": "ipython",
    "version": 3
   },
   "file_extension": ".py",
   "mimetype": "text/x-python",
   "name": "python",
   "nbconvert_exporter": "python",
   "pygments_lexer": "ipython3",
   "version": "3.9.12"
  },
  "rise": {
   "height": "90%",
   "width": "90%"
  },
  "toc-autonumbering": false,
  "toc-showcode": true,
  "toc-showmarkdowntxt": false
 },
 "nbformat": 4,
 "nbformat_minor": 5
}

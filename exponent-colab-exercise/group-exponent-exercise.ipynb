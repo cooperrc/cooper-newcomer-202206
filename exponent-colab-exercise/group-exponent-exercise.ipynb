{
 "cells": [
  {
   "cell_type": "markdown",
   "id": "db8b82af-333e-46fd-b318-ac95bb9d1a18",
   "metadata": {},
   "source": [
    "# Group Exercise\n",
    "\n",
    "One way to decrease approximation error is to continue expanding the Taylor series. Consider the function f(x)\n",
    "\n",
    "$f(x)=e^x = 1+x+\\frac{x^2}{2!}+\\frac{x^3}{3!}+\\frac{x^4}{4!}+...$\n",
    "\n",
    "We can approximate $e^x$ as $1+x$ (first order), $1+x+x^2/2$ (second order), and so on each higher order results in smaller error. \n",
    "\n",
    "If you're trying to calculate $e^1$, what order approximation do you need?"
   ]
  },
  {
   "cell_type": "code",
   "execution_count": 1,
   "id": "83652e99-1ba6-4ad1-a04d-ccc21496786a",
   "metadata": {},
   "outputs": [],
   "source": [
    "from math import factorial\n",
    "def exptaylor(x,n):\n",
    "    '''Taylor series expansion about x=0 for the function e^x\n",
    "    the full expansion follows the function\n",
    "    e^x = 1+ x + x**2/2! + x**3/3! + x**4/4! + x**5/5! +...'''\n",
    "    if n<1:\n",
    "        print('lowest order expansion is 0 where e^x = 1')\n",
    "        ex = 1\n",
    "    else:\n",
    "        ex = 1+x # define the first-order taylor series result\n",
    "        for i in range(1,n):\n",
    "            ex+=x**(i+1)/factorial(i+1) # add the nth-order result for each step in loop\n",
    "    return ex\n",
    "        "
   ]
  },
  {
   "cell_type": "code",
   "execution_count": null,
   "id": "f9710296-6f4b-4ee5-9104-688e9db8eb82",
   "metadata": {},
   "outputs": [],
   "source": []
  }
 ],
 "metadata": {
  "kernelspec": {
   "display_name": "Python 3 (ipykernel)",
   "language": "python",
   "name": "python3"
  },
  "language_info": {
   "codemirror_mode": {
    "name": "ipython",
    "version": 3
   },
   "file_extension": ".py",
   "mimetype": "text/x-python",
   "name": "python",
   "nbconvert_exporter": "python",
   "pygments_lexer": "ipython3",
   "version": "3.9.12"
  }
 },
 "nbformat": 4,
 "nbformat_minor": 5
}
